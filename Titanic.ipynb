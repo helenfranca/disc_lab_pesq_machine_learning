{
  "nbformat": 4,
  "nbformat_minor": 0,
  "metadata": {
    "colab": {
      "name": "Titanic.ipynb",
      "provenance": []
    },
    "kernelspec": {
      "name": "python3",
      "display_name": "Python 3"
    }
  },
  "cells": [
    {
      "cell_type": "markdown",
      "metadata": {
        "id": "CIT8D1_3N0lH"
      },
      "source": [
        "Base: Titanic\r\n",
        "Apresentação: [Google Drive](https://docs.google.com/presentation/d/1TjVHEw3k8lL9P2HtF5-_NX3LJyEiuooRLwaV5ZAo5Uo/edit?usp=sharing)"
      ]
    },
    {
      "cell_type": "code",
      "metadata": {
        "id": "sYLZJuTqNvjm"
      },
      "source": [
        "#Importando bibliotecas\r\n",
        "\r\n",
        "import sklearn\r\n",
        "import pandas as pd\r\n",
        "import numpy as np\r\n",
        "from sklearn.model_selection import train_test_split\r\n",
        "from sklearn.metrics import accuracy_score\r\n",
        "from sklearn.linear_model import LogisticRegression\r\n",
        "from matplotlib import pyplot"
      ],
      "execution_count": 1,
      "outputs": []
    },
    {
      "cell_type": "code",
      "metadata": {
        "id": "4iQTZXQXaBbr"
      },
      "source": [
        "#Carregando dataset e alterando cabeçalho\r\n",
        "dataset = pd.read_csv(\"https://raw.githubusercontent.com/profmoisesomena/escience_and_tools/master/data/titanic_lab_sample.csv\", header=0, \r\n",
        "                      names = ['classe','sexo','idade','parentes_bordo','pais_bordo','valor_passagem','sobrevivente'])\r\n"
      ],
      "execution_count": 2,
      "outputs": []
    },
    {
      "cell_type": "code",
      "metadata": {
        "colab": {
          "base_uri": "https://localhost:8080/",
          "height": 669
        },
        "id": "U7U-93NqaTnK",
        "outputId": "4994f80b-15fc-4717-c3e6-25c48b1a72a5"
      },
      "source": [
        "dataset.head(20)"
      ],
      "execution_count": 36,
      "outputs": [
        {
          "output_type": "execute_result",
          "data": {
            "text/html": [
              "<div>\n",
              "<style scoped>\n",
              "    .dataframe tbody tr th:only-of-type {\n",
              "        vertical-align: middle;\n",
              "    }\n",
              "\n",
              "    .dataframe tbody tr th {\n",
              "        vertical-align: top;\n",
              "    }\n",
              "\n",
              "    .dataframe thead th {\n",
              "        text-align: right;\n",
              "    }\n",
              "</style>\n",
              "<table border=\"1\" class=\"dataframe\">\n",
              "  <thead>\n",
              "    <tr style=\"text-align: right;\">\n",
              "      <th></th>\n",
              "      <th>classe</th>\n",
              "      <th>sexo</th>\n",
              "      <th>idade</th>\n",
              "      <th>parentes_bordo</th>\n",
              "      <th>pais_bordo</th>\n",
              "      <th>valor_passagem</th>\n",
              "      <th>sobrevivente</th>\n",
              "    </tr>\n",
              "  </thead>\n",
              "  <tbody>\n",
              "    <tr>\n",
              "      <th>0</th>\n",
              "      <td>1</td>\n",
              "      <td>1</td>\n",
              "      <td>29.000000</td>\n",
              "      <td>0</td>\n",
              "      <td>0</td>\n",
              "      <td>211.3375</td>\n",
              "      <td>1</td>\n",
              "    </tr>\n",
              "    <tr>\n",
              "      <th>1</th>\n",
              "      <td>1</td>\n",
              "      <td>0</td>\n",
              "      <td>0.916700</td>\n",
              "      <td>1</td>\n",
              "      <td>2</td>\n",
              "      <td>151.5500</td>\n",
              "      <td>1</td>\n",
              "    </tr>\n",
              "    <tr>\n",
              "      <th>2</th>\n",
              "      <td>1</td>\n",
              "      <td>1</td>\n",
              "      <td>2.000000</td>\n",
              "      <td>1</td>\n",
              "      <td>2</td>\n",
              "      <td>151.5500</td>\n",
              "      <td>0</td>\n",
              "    </tr>\n",
              "    <tr>\n",
              "      <th>3</th>\n",
              "      <td>1</td>\n",
              "      <td>0</td>\n",
              "      <td>30.000000</td>\n",
              "      <td>1</td>\n",
              "      <td>2</td>\n",
              "      <td>151.5500</td>\n",
              "      <td>0</td>\n",
              "    </tr>\n",
              "    <tr>\n",
              "      <th>4</th>\n",
              "      <td>1</td>\n",
              "      <td>1</td>\n",
              "      <td>25.000000</td>\n",
              "      <td>1</td>\n",
              "      <td>2</td>\n",
              "      <td>151.5500</td>\n",
              "      <td>0</td>\n",
              "    </tr>\n",
              "    <tr>\n",
              "      <th>5</th>\n",
              "      <td>1</td>\n",
              "      <td>0</td>\n",
              "      <td>48.000000</td>\n",
              "      <td>0</td>\n",
              "      <td>0</td>\n",
              "      <td>26.5500</td>\n",
              "      <td>1</td>\n",
              "    </tr>\n",
              "    <tr>\n",
              "      <th>6</th>\n",
              "      <td>1</td>\n",
              "      <td>1</td>\n",
              "      <td>63.000000</td>\n",
              "      <td>1</td>\n",
              "      <td>0</td>\n",
              "      <td>77.9583</td>\n",
              "      <td>1</td>\n",
              "    </tr>\n",
              "    <tr>\n",
              "      <th>7</th>\n",
              "      <td>1</td>\n",
              "      <td>0</td>\n",
              "      <td>39.000000</td>\n",
              "      <td>0</td>\n",
              "      <td>0</td>\n",
              "      <td>0.0000</td>\n",
              "      <td>0</td>\n",
              "    </tr>\n",
              "    <tr>\n",
              "      <th>8</th>\n",
              "      <td>1</td>\n",
              "      <td>1</td>\n",
              "      <td>53.000000</td>\n",
              "      <td>2</td>\n",
              "      <td>0</td>\n",
              "      <td>51.4792</td>\n",
              "      <td>1</td>\n",
              "    </tr>\n",
              "    <tr>\n",
              "      <th>9</th>\n",
              "      <td>1</td>\n",
              "      <td>0</td>\n",
              "      <td>71.000000</td>\n",
              "      <td>0</td>\n",
              "      <td>0</td>\n",
              "      <td>49.5042</td>\n",
              "      <td>0</td>\n",
              "    </tr>\n",
              "    <tr>\n",
              "      <th>10</th>\n",
              "      <td>1</td>\n",
              "      <td>0</td>\n",
              "      <td>47.000000</td>\n",
              "      <td>1</td>\n",
              "      <td>0</td>\n",
              "      <td>227525.0000</td>\n",
              "      <td>0</td>\n",
              "    </tr>\n",
              "    <tr>\n",
              "      <th>11</th>\n",
              "      <td>1</td>\n",
              "      <td>1</td>\n",
              "      <td>18.000000</td>\n",
              "      <td>1</td>\n",
              "      <td>0</td>\n",
              "      <td>227525.0000</td>\n",
              "      <td>1</td>\n",
              "    </tr>\n",
              "    <tr>\n",
              "      <th>12</th>\n",
              "      <td>1</td>\n",
              "      <td>1</td>\n",
              "      <td>24.000000</td>\n",
              "      <td>0</td>\n",
              "      <td>0</td>\n",
              "      <td>69.3000</td>\n",
              "      <td>1</td>\n",
              "    </tr>\n",
              "    <tr>\n",
              "      <th>13</th>\n",
              "      <td>1</td>\n",
              "      <td>1</td>\n",
              "      <td>26.000000</td>\n",
              "      <td>0</td>\n",
              "      <td>0</td>\n",
              "      <td>78.8500</td>\n",
              "      <td>1</td>\n",
              "    </tr>\n",
              "    <tr>\n",
              "      <th>14</th>\n",
              "      <td>1</td>\n",
              "      <td>0</td>\n",
              "      <td>80.000000</td>\n",
              "      <td>0</td>\n",
              "      <td>0</td>\n",
              "      <td>30.0000</td>\n",
              "      <td>1</td>\n",
              "    </tr>\n",
              "    <tr>\n",
              "      <th>15</th>\n",
              "      <td>1</td>\n",
              "      <td>0</td>\n",
              "      <td>30.089513</td>\n",
              "      <td>0</td>\n",
              "      <td>0</td>\n",
              "      <td>25925.0000</td>\n",
              "      <td>0</td>\n",
              "    </tr>\n",
              "    <tr>\n",
              "      <th>16</th>\n",
              "      <td>1</td>\n",
              "      <td>0</td>\n",
              "      <td>24.000000</td>\n",
              "      <td>0</td>\n",
              "      <td>1</td>\n",
              "      <td>247.5208</td>\n",
              "      <td>0</td>\n",
              "    </tr>\n",
              "    <tr>\n",
              "      <th>17</th>\n",
              "      <td>1</td>\n",
              "      <td>1</td>\n",
              "      <td>50.000000</td>\n",
              "      <td>0</td>\n",
              "      <td>1</td>\n",
              "      <td>247.5208</td>\n",
              "      <td>1</td>\n",
              "    </tr>\n",
              "    <tr>\n",
              "      <th>18</th>\n",
              "      <td>1</td>\n",
              "      <td>1</td>\n",
              "      <td>32.000000</td>\n",
              "      <td>0</td>\n",
              "      <td>0</td>\n",
              "      <td>76.2917</td>\n",
              "      <td>1</td>\n",
              "    </tr>\n",
              "    <tr>\n",
              "      <th>19</th>\n",
              "      <td>1</td>\n",
              "      <td>0</td>\n",
              "      <td>36.000000</td>\n",
              "      <td>0</td>\n",
              "      <td>0</td>\n",
              "      <td>75.2417</td>\n",
              "      <td>0</td>\n",
              "    </tr>\n",
              "  </tbody>\n",
              "</table>\n",
              "</div>"
            ],
            "text/plain": [
              "    classe  sexo      idade  ...  pais_bordo  valor_passagem  sobrevivente\n",
              "0        1     1  29.000000  ...           0        211.3375             1\n",
              "1        1     0   0.916700  ...           2        151.5500             1\n",
              "2        1     1   2.000000  ...           2        151.5500             0\n",
              "3        1     0  30.000000  ...           2        151.5500             0\n",
              "4        1     1  25.000000  ...           2        151.5500             0\n",
              "5        1     0  48.000000  ...           0         26.5500             1\n",
              "6        1     1  63.000000  ...           0         77.9583             1\n",
              "7        1     0  39.000000  ...           0          0.0000             0\n",
              "8        1     1  53.000000  ...           0         51.4792             1\n",
              "9        1     0  71.000000  ...           0         49.5042             0\n",
              "10       1     0  47.000000  ...           0     227525.0000             0\n",
              "11       1     1  18.000000  ...           0     227525.0000             1\n",
              "12       1     1  24.000000  ...           0         69.3000             1\n",
              "13       1     1  26.000000  ...           0         78.8500             1\n",
              "14       1     0  80.000000  ...           0         30.0000             1\n",
              "15       1     0  30.089513  ...           0      25925.0000             0\n",
              "16       1     0  24.000000  ...           1        247.5208             0\n",
              "17       1     1  50.000000  ...           1        247.5208             1\n",
              "18       1     1  32.000000  ...           0         76.2917             1\n",
              "19       1     0  36.000000  ...           0         75.2417             0\n",
              "\n",
              "[20 rows x 7 columns]"
            ]
          },
          "metadata": {
            "tags": []
          },
          "execution_count": 36
        }
      ]
    },
    {
      "cell_type": "code",
      "metadata": {
        "colab": {
          "base_uri": "https://localhost:8080/",
          "height": 297
        },
        "id": "T_BeMCOjaUgB",
        "outputId": "a1f7e132-d2fe-4e27-e23e-3a2e84bedbbc"
      },
      "source": [
        "dataset.describe(include='all')"
      ],
      "execution_count": 38,
      "outputs": [
        {
          "output_type": "execute_result",
          "data": {
            "text/html": [
              "<div>\n",
              "<style scoped>\n",
              "    .dataframe tbody tr th:only-of-type {\n",
              "        vertical-align: middle;\n",
              "    }\n",
              "\n",
              "    .dataframe tbody tr th {\n",
              "        vertical-align: top;\n",
              "    }\n",
              "\n",
              "    .dataframe thead th {\n",
              "        text-align: right;\n",
              "    }\n",
              "</style>\n",
              "<table border=\"1\" class=\"dataframe\">\n",
              "  <thead>\n",
              "    <tr style=\"text-align: right;\">\n",
              "      <th></th>\n",
              "      <th>classe</th>\n",
              "      <th>sexo</th>\n",
              "      <th>idade</th>\n",
              "      <th>parentes_bordo</th>\n",
              "      <th>pais_bordo</th>\n",
              "      <th>valor_passagem</th>\n",
              "      <th>sobrevivente</th>\n",
              "    </tr>\n",
              "  </thead>\n",
              "  <tbody>\n",
              "    <tr>\n",
              "      <th>count</th>\n",
              "      <td>1108.000000</td>\n",
              "      <td>1108.000000</td>\n",
              "      <td>1108.000000</td>\n",
              "      <td>1108.000000</td>\n",
              "      <td>1108.000000</td>\n",
              "      <td>1108.000000</td>\n",
              "      <td>1108.000000</td>\n",
              "    </tr>\n",
              "    <tr>\n",
              "      <th>mean</th>\n",
              "      <td>2.215704</td>\n",
              "      <td>0.387184</td>\n",
              "      <td>30.089513</td>\n",
              "      <td>0.518051</td>\n",
              "      <td>0.435018</td>\n",
              "      <td>5135.653576</td>\n",
              "      <td>0.420578</td>\n",
              "    </tr>\n",
              "    <tr>\n",
              "      <th>std</th>\n",
              "      <td>0.858270</td>\n",
              "      <td>0.487326</td>\n",
              "      <td>13.801245</td>\n",
              "      <td>0.956431</td>\n",
              "      <td>0.913772</td>\n",
              "      <td>27541.433817</td>\n",
              "      <td>0.493875</td>\n",
              "    </tr>\n",
              "    <tr>\n",
              "      <th>min</th>\n",
              "      <td>1.000000</td>\n",
              "      <td>0.000000</td>\n",
              "      <td>0.166700</td>\n",
              "      <td>0.000000</td>\n",
              "      <td>0.000000</td>\n",
              "      <td>0.000000</td>\n",
              "      <td>0.000000</td>\n",
              "    </tr>\n",
              "    <tr>\n",
              "      <th>25%</th>\n",
              "      <td>1.000000</td>\n",
              "      <td>0.000000</td>\n",
              "      <td>22.000000</td>\n",
              "      <td>0.000000</td>\n",
              "      <td>0.000000</td>\n",
              "      <td>9.840650</td>\n",
              "      <td>0.000000</td>\n",
              "    </tr>\n",
              "    <tr>\n",
              "      <th>50%</th>\n",
              "      <td>2.000000</td>\n",
              "      <td>0.000000</td>\n",
              "      <td>30.089513</td>\n",
              "      <td>0.000000</td>\n",
              "      <td>0.000000</td>\n",
              "      <td>26.000000</td>\n",
              "      <td>0.000000</td>\n",
              "    </tr>\n",
              "    <tr>\n",
              "      <th>75%</th>\n",
              "      <td>3.000000</td>\n",
              "      <td>1.000000</td>\n",
              "      <td>37.000000</td>\n",
              "      <td>1.000000</td>\n",
              "      <td>1.000000</td>\n",
              "      <td>71.837475</td>\n",
              "      <td>1.000000</td>\n",
              "    </tr>\n",
              "    <tr>\n",
              "      <th>max</th>\n",
              "      <td>3.000000</td>\n",
              "      <td>1.000000</td>\n",
              "      <td>80.000000</td>\n",
              "      <td>8.000000</td>\n",
              "      <td>9.000000</td>\n",
              "      <td>262375.000000</td>\n",
              "      <td>1.000000</td>\n",
              "    </tr>\n",
              "  </tbody>\n",
              "</table>\n",
              "</div>"
            ],
            "text/plain": [
              "            classe         sexo  ...  valor_passagem  sobrevivente\n",
              "count  1108.000000  1108.000000  ...     1108.000000   1108.000000\n",
              "mean      2.215704     0.387184  ...     5135.653576      0.420578\n",
              "std       0.858270     0.487326  ...    27541.433817      0.493875\n",
              "min       1.000000     0.000000  ...        0.000000      0.000000\n",
              "25%       1.000000     0.000000  ...        9.840650      0.000000\n",
              "50%       2.000000     0.000000  ...       26.000000      0.000000\n",
              "75%       3.000000     1.000000  ...       71.837475      1.000000\n",
              "max       3.000000     1.000000  ...   262375.000000      1.000000\n",
              "\n",
              "[8 rows x 7 columns]"
            ]
          },
          "metadata": {
            "tags": []
          },
          "execution_count": 38
        }
      ]
    },
    {
      "cell_type": "code",
      "metadata": {
        "colab": {
          "base_uri": "https://localhost:8080/"
        },
        "id": "4nFUYLdrbM9G",
        "outputId": "8a5649ad-1ae9-4185-d2b9-315042b0dd7e"
      },
      "source": [
        "#Quantidade de pessoas por nas classes do Navio\r\n",
        "print(dataset.groupby('classe').size())"
      ],
      "execution_count": 5,
      "outputs": [
        {
          "output_type": "stream",
          "text": [
            "classe\n",
            "1    314\n",
            "2    241\n",
            "3    553\n",
            "dtype: int64\n"
          ],
          "name": "stdout"
        }
      ]
    },
    {
      "cell_type": "code",
      "metadata": {
        "colab": {
          "base_uri": "https://localhost:8080/",
          "height": 125
        },
        "id": "NZskjFSkfFvW",
        "outputId": "1f6b7fdf-d1b2-4028-b12c-2e38c6131097"
      },
      "source": [
        "dataset.plot(kind='density', subplots=True, layout=(7,7),sharex=False, sharey=False, figsize=(20,10))\r\n",
        "pyplot.show()\r\n",
        "\r\n",
        "# As informações contidas nesses gráficos certificam as informações geradas a partir do describe e groupby. \r\n",
        "# Além disso é possível levantar algumas hipóteses quanto a quantidade de passageiros que viajaram sozinhos, ou apenas com os pais por exemplo."
      ],
      "execution_count": 7,
      "outputs": [
        {
          "output_type": "display_data",
          "data": {
            "image/png": "[encoded data removed]",
            "text/plain": [
              "<Figure size 1440x720 with 49 Axes>"
            ]
          },
          "metadata": {
            "tags": [],
            "needs_background": "light"
          }
        }
      ]
    },
    {
      "cell_type": "markdown",
      "metadata": {
        "id": "0hgbz4B1kmrX"
      },
      "source": [
        "Treinando os dados\r\n",
        "\r\n"
      ]
    },
    {
      "cell_type": "code",
      "metadata": {
        "id": "XCGsWdOzkdgg"
      },
      "source": [
        "titanic_array = dataset.values\r\n",
        "X = titanic_array[:,0:6]\r\n",
        "Y = titanic_array[:,6]\r\n",
        "\r\n",
        "X_train, X_validation, Y_train, Y_validation = train_test_split(X, Y, test_size=0.25, random_state=0, shuffle=True)"
      ],
      "execution_count": 113,
      "outputs": []
    },
    {
      "cell_type": "code",
      "metadata": {
        "id": "QczahMO0kdi0",
        "colab": {
          "base_uri": "https://localhost:8080/"
        },
        "outputId": "aa69324b-74aa-4855-caed-d8527bf6d12f"
      },
      "source": [
        "X_train[0:5]"
      ],
      "execution_count": 114,
      "outputs": [
        {
          "output_type": "execute_result",
          "data": {
            "text/plain": [
              "array([[2.00000000e+00, 0.00000000e+00, 6.20000000e+01, 0.00000000e+00,\n",
              "        0.00000000e+00, 1.05000000e+01],\n",
              "       [3.00000000e+00, 1.00000000e+00, 8.00000000e+00, 3.00000000e+00,\n",
              "        1.00000000e+00, 2.10750000e+04],\n",
              "       [3.00000000e+00, 0.00000000e+00, 4.30000000e+01, 0.00000000e+00,\n",
              "        0.00000000e+00, 8.05000000e+00],\n",
              "       [3.00000000e+00, 1.00000000e+00, 3.00895126e+01, 0.00000000e+00,\n",
              "        0.00000000e+00, 8.05000000e+00],\n",
              "       [3.00000000e+00, 1.00000000e+00, 2.40000000e+01, 0.00000000e+00,\n",
              "        0.00000000e+00, 7.75000000e+00]])"
            ]
          },
          "metadata": {
            "tags": []
          },
          "execution_count": 114
        }
      ]
    },
    {
      "cell_type": "code",
      "metadata": {
        "id": "jSUeynulkdmO",
        "colab": {
          "base_uri": "https://localhost:8080/"
        },
        "outputId": "6e215996-a2f1-4c19-9938-1015a119f53f"
      },
      "source": [
        "Y_train[0:10]"
      ],
      "execution_count": 115,
      "outputs": [
        {
          "output_type": "execute_result",
          "data": {
            "text/plain": [
              "array([1., 0., 0., 0., 0., 1., 0., 0., 1., 0.])"
            ]
          },
          "metadata": {
            "tags": []
          },
          "execution_count": 115
        }
      ]
    },
    {
      "cell_type": "markdown",
      "metadata": {
        "id": "LQePNsj-mUCH"
      },
      "source": [
        "Criando e treinando o modelo"
      ]
    },
    {
      "cell_type": "code",
      "metadata": {
        "colab": {
          "base_uri": "https://localhost:8080/"
        },
        "id": "TsB8POKUmQjV",
        "outputId": "199871d3-8426-43de-de2c-83337e125454"
      },
      "source": [
        "model = LogisticRegression()\r\n",
        "model.fit(X_train, Y_train)"
      ],
      "execution_count": 116,
      "outputs": [
        {
          "output_type": "execute_result",
          "data": {
            "text/plain": [
              "LogisticRegression(C=1.0, class_weight=None, dual=False, fit_intercept=True,\n",
              "                   intercept_scaling=1, l1_ratio=None, max_iter=100,\n",
              "                   multi_class='auto', n_jobs=None, penalty='l2',\n",
              "                   random_state=None, solver='lbfgs', tol=0.0001, verbose=0,\n",
              "                   warm_start=False)"
            ]
          },
          "metadata": {
            "tags": []
          },
          "execution_count": 116
        }
      ]
    },
    {
      "cell_type": "code",
      "metadata": {
        "colab": {
          "base_uri": "https://localhost:8080/"
        },
        "id": "wZH6QqcimQls",
        "outputId": "74d4a2c8-cece-4a81-87fc-d13e595c9075"
      },
      "source": [
        "#Prevendo com base nos dados [Entrada: Dados já conhecidos]\r\n",
        "model.predict([[1,1,53.0,2,0,51.4792]])"
      ],
      "execution_count": 117,
      "outputs": [
        {
          "output_type": "execute_result",
          "data": {
            "text/plain": [
              "array([1.])"
            ]
          },
          "metadata": {
            "tags": []
          },
          "execution_count": 117
        }
      ]
    },
    {
      "cell_type": "code",
      "metadata": {
        "colab": {
          "base_uri": "https://localhost:8080/"
        },
        "id": "IxVUY0dVmQoz",
        "outputId": "4707c343-9136-4e8b-a3ed-6d1261ee921c"
      },
      "source": [
        "model.predict([[1,0,36.0,0,0,75.2417]])"
      ],
      "execution_count": 118,
      "outputs": [
        {
          "output_type": "execute_result",
          "data": {
            "text/plain": [
              "array([0.])"
            ]
          },
          "metadata": {
            "tags": []
          },
          "execution_count": 118
        }
      ]
    },
    {
      "cell_type": "code",
      "metadata": {
        "id": "IT9Do7OWHGpn"
      },
      "source": [
        "#Predições para o conjunto de dados\r\n",
        "predictions_train = model.predict(X_train)\r\n",
        "predictions_validation = model.predict(X_validation)"
      ],
      "execution_count": 119,
      "outputs": []
    },
    {
      "cell_type": "code",
      "metadata": {
        "colab": {
          "base_uri": "https://localhost:8080/"
        },
        "id": "McKuAtxFHGsK",
        "outputId": "ddd0844b-434c-4af4-98b7-989d886c8b82"
      },
      "source": [
        "#Usando os dados utilizados para treinar\r\n",
        "print(sklearn.metrics.accuracy_score(Y_train, predictions_train))"
      ],
      "execution_count": 120,
      "outputs": [
        {
          "output_type": "stream",
          "text": [
            "0.766546329723225\n"
          ],
          "name": "stdout"
        }
      ]
    },
    {
      "cell_type": "code",
      "metadata": {
        "colab": {
          "base_uri": "https://localhost:8080/"
        },
        "id": "nN-odXt4HGvp",
        "outputId": "d46b7ad6-36e2-4486-f9a1-b91a5168efa8"
      },
      "source": [
        "#Usando os dados NÃO utilizados para treinar\r\n",
        "print(sklearn.metrics.accuracy_score(Y_validation, predictions_validation))"
      ],
      "execution_count": 121,
      "outputs": [
        {
          "output_type": "stream",
          "text": [
            "0.7292418772563177\n"
          ],
          "name": "stdout"
        }
      ]
    },
    {
      "cell_type": "code",
      "metadata": {
        "colab": {
          "base_uri": "https://localhost:8080/",
          "height": 419
        },
        "id": "WqZxSmugIkgo",
        "outputId": "007b3b29-8111-48b6-d492-ab2b3372a003"
      },
      "source": [
        "#Impressão da base com as predições\r\n",
        "df = pd.DataFrame(data=np.c_[X_validation, Y_validation, predictions_validation], columns = ['classe','sexo','idade','parentes_bordo','pais_bordo','valor_passagem','sobrevivente', 'predito'])\r\n",
        "df"
      ],
      "execution_count": 124,
      "outputs": [
        {
          "output_type": "execute_result",
          "data": {
            "text/html": [
              "<div>\n",
              "<style scoped>\n",
              "    .dataframe tbody tr th:only-of-type {\n",
              "        vertical-align: middle;\n",
              "    }\n",
              "\n",
              "    .dataframe tbody tr th {\n",
              "        vertical-align: top;\n",
              "    }\n",
              "\n",
              "    .dataframe thead th {\n",
              "        text-align: right;\n",
              "    }\n",
              "</style>\n",
              "<table border=\"1\" class=\"dataframe\">\n",
              "  <thead>\n",
              "    <tr style=\"text-align: right;\">\n",
              "      <th></th>\n",
              "      <th>classe</th>\n",
              "      <th>sexo</th>\n",
              "      <th>idade</th>\n",
              "      <th>parentes_bordo</th>\n",
              "      <th>pais_bordo</th>\n",
              "      <th>valor_passagem</th>\n",
              "      <th>sobrevivente</th>\n",
              "      <th>predito</th>\n",
              "    </tr>\n",
              "  </thead>\n",
              "  <tbody>\n",
              "    <tr>\n",
              "      <th>0</th>\n",
              "      <td>3.0</td>\n",
              "      <td>1.0</td>\n",
              "      <td>23.000000</td>\n",
              "      <td>0.0</td>\n",
              "      <td>0.0</td>\n",
              "      <td>7.5500</td>\n",
              "      <td>1.0</td>\n",
              "      <td>0.0</td>\n",
              "    </tr>\n",
              "    <tr>\n",
              "      <th>1</th>\n",
              "      <td>3.0</td>\n",
              "      <td>0.0</td>\n",
              "      <td>21.000000</td>\n",
              "      <td>0.0</td>\n",
              "      <td>0.0</td>\n",
              "      <td>7925.0000</td>\n",
              "      <td>0.0</td>\n",
              "      <td>0.0</td>\n",
              "    </tr>\n",
              "    <tr>\n",
              "      <th>2</th>\n",
              "      <td>3.0</td>\n",
              "      <td>0.0</td>\n",
              "      <td>14.000000</td>\n",
              "      <td>5.0</td>\n",
              "      <td>2.0</td>\n",
              "      <td>46.9000</td>\n",
              "      <td>0.0</td>\n",
              "      <td>0.0</td>\n",
              "    </tr>\n",
              "    <tr>\n",
              "      <th>3</th>\n",
              "      <td>2.0</td>\n",
              "      <td>0.0</td>\n",
              "      <td>28.000000</td>\n",
              "      <td>0.0</td>\n",
              "      <td>0.0</td>\n",
              "      <td>13.5000</td>\n",
              "      <td>0.0</td>\n",
              "      <td>0.0</td>\n",
              "    </tr>\n",
              "    <tr>\n",
              "      <th>4</th>\n",
              "      <td>2.0</td>\n",
              "      <td>1.0</td>\n",
              "      <td>22.000000</td>\n",
              "      <td>1.0</td>\n",
              "      <td>2.0</td>\n",
              "      <td>41.5792</td>\n",
              "      <td>1.0</td>\n",
              "      <td>1.0</td>\n",
              "    </tr>\n",
              "    <tr>\n",
              "      <th>...</th>\n",
              "      <td>...</td>\n",
              "      <td>...</td>\n",
              "      <td>...</td>\n",
              "      <td>...</td>\n",
              "      <td>...</td>\n",
              "      <td>...</td>\n",
              "      <td>...</td>\n",
              "      <td>...</td>\n",
              "    </tr>\n",
              "    <tr>\n",
              "      <th>272</th>\n",
              "      <td>2.0</td>\n",
              "      <td>1.0</td>\n",
              "      <td>30.000000</td>\n",
              "      <td>3.0</td>\n",
              "      <td>0.0</td>\n",
              "      <td>21.0000</td>\n",
              "      <td>1.0</td>\n",
              "      <td>1.0</td>\n",
              "    </tr>\n",
              "    <tr>\n",
              "      <th>273</th>\n",
              "      <td>3.0</td>\n",
              "      <td>1.0</td>\n",
              "      <td>27.000000</td>\n",
              "      <td>0.0</td>\n",
              "      <td>0.0</td>\n",
              "      <td>7925.0000</td>\n",
              "      <td>1.0</td>\n",
              "      <td>0.0</td>\n",
              "    </tr>\n",
              "    <tr>\n",
              "      <th>274</th>\n",
              "      <td>1.0</td>\n",
              "      <td>0.0</td>\n",
              "      <td>24.000000</td>\n",
              "      <td>1.0</td>\n",
              "      <td>0.0</td>\n",
              "      <td>82.2667</td>\n",
              "      <td>1.0</td>\n",
              "      <td>0.0</td>\n",
              "    </tr>\n",
              "    <tr>\n",
              "      <th>275</th>\n",
              "      <td>3.0</td>\n",
              "      <td>1.0</td>\n",
              "      <td>30.089513</td>\n",
              "      <td>1.0</td>\n",
              "      <td>1.0</td>\n",
              "      <td>22.3583</td>\n",
              "      <td>1.0</td>\n",
              "      <td>1.0</td>\n",
              "    </tr>\n",
              "    <tr>\n",
              "      <th>276</th>\n",
              "      <td>1.0</td>\n",
              "      <td>0.0</td>\n",
              "      <td>39.000000</td>\n",
              "      <td>0.0</td>\n",
              "      <td>0.0</td>\n",
              "      <td>29.7000</td>\n",
              "      <td>0.0</td>\n",
              "      <td>0.0</td>\n",
              "    </tr>\n",
              "  </tbody>\n",
              "</table>\n",
              "<p>277 rows × 8 columns</p>\n",
              "</div>"
            ],
            "text/plain": [
              "     classe  sexo      idade  ...  valor_passagem  sobrevivente  predito\n",
              "0       3.0   1.0  23.000000  ...          7.5500           1.0      0.0\n",
              "1       3.0   0.0  21.000000  ...       7925.0000           0.0      0.0\n",
              "2       3.0   0.0  14.000000  ...         46.9000           0.0      0.0\n",
              "3       2.0   0.0  28.000000  ...         13.5000           0.0      0.0\n",
              "4       2.0   1.0  22.000000  ...         41.5792           1.0      1.0\n",
              "..      ...   ...        ...  ...             ...           ...      ...\n",
              "272     2.0   1.0  30.000000  ...         21.0000           1.0      1.0\n",
              "273     3.0   1.0  27.000000  ...       7925.0000           1.0      0.0\n",
              "274     1.0   0.0  24.000000  ...         82.2667           1.0      0.0\n",
              "275     3.0   1.0  30.089513  ...         22.3583           1.0      1.0\n",
              "276     1.0   0.0  39.000000  ...         29.7000           0.0      0.0\n",
              "\n",
              "[277 rows x 8 columns]"
            ]
          },
          "metadata": {
            "tags": []
          },
          "execution_count": 124
        }
      ]
    },
    {
      "cell_type": "code",
      "metadata": {
        "id": "ZTZ8G_97jI5U"
      },
      "source": [
        ""
      ],
      "execution_count": null,
      "outputs": []
    }
  ]
}